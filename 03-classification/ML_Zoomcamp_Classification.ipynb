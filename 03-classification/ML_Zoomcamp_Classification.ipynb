{
  "nbformat": 4,
  "nbformat_minor": 0,
  "metadata": {
    "colab": {
      "provenance": []
    },
    "kernelspec": {
      "name": "python3",
      "display_name": "Python 3"
    },
    "language_info": {
      "name": "python"
    }
  },
  "cells": [
    {
      "cell_type": "code",
      "execution_count": 1,
      "metadata": {
        "id": "bmngcjc1gAwv"
      },
      "outputs": [],
      "source": [
        "import numpy as np\n",
        "import pandas as pd\n",
        "import matplotlib.pyplot as plt\n",
        "import seaborn as sns\n",
        "from sklearn.linear_model import LinearRegression"
      ]
    },
    {
      "cell_type": "code",
      "source": [
        "df = pd.read_csv('/content/course_lead_scoring.csv')\n",
        "\n",
        "df.head()"
      ],
      "metadata": {
        "colab": {
          "base_uri": "https://localhost:8080/",
          "height": 226
        },
        "id": "0qavhrGGgOMl",
        "outputId": "292c376d-f5d7-43c0-fdde-c946f7fba428"
      },
      "execution_count": 2,
      "outputs": [
        {
          "output_type": "execute_result",
          "data": {
            "text/plain": [
              "    lead_source    industry  number_of_courses_viewed  annual_income  \\\n",
              "0      paid_ads         NaN                         1        79450.0   \n",
              "1  social_media      retail                         1        46992.0   \n",
              "2        events  healthcare                         5        78796.0   \n",
              "3      paid_ads      retail                         2        83843.0   \n",
              "4      referral   education                         3        85012.0   \n",
              "\n",
              "  employment_status       location  interaction_count  lead_score  converted  \n",
              "0        unemployed  south_america                  4        0.94          1  \n",
              "1          employed  south_america                  1        0.80          0  \n",
              "2        unemployed      australia                  3        0.69          1  \n",
              "3               NaN      australia                  1        0.87          0  \n",
              "4     self_employed         europe                  3        0.62          1  "
            ],
            "text/html": [
              "\n",
              "  <div id=\"df-096ef688-cd8f-40dd-a375-39316e12dd08\" class=\"colab-df-container\">\n",
              "    <div>\n",
              "<style scoped>\n",
              "    .dataframe tbody tr th:only-of-type {\n",
              "        vertical-align: middle;\n",
              "    }\n",
              "\n",
              "    .dataframe tbody tr th {\n",
              "        vertical-align: top;\n",
              "    }\n",
              "\n",
              "    .dataframe thead th {\n",
              "        text-align: right;\n",
              "    }\n",
              "</style>\n",
              "<table border=\"1\" class=\"dataframe\">\n",
              "  <thead>\n",
              "    <tr style=\"text-align: right;\">\n",
              "      <th></th>\n",
              "      <th>lead_source</th>\n",
              "      <th>industry</th>\n",
              "      <th>number_of_courses_viewed</th>\n",
              "      <th>annual_income</th>\n",
              "      <th>employment_status</th>\n",
              "      <th>location</th>\n",
              "      <th>interaction_count</th>\n",
              "      <th>lead_score</th>\n",
              "      <th>converted</th>\n",
              "    </tr>\n",
              "  </thead>\n",
              "  <tbody>\n",
              "    <tr>\n",
              "      <th>0</th>\n",
              "      <td>paid_ads</td>\n",
              "      <td>NaN</td>\n",
              "      <td>1</td>\n",
              "      <td>79450.0</td>\n",
              "      <td>unemployed</td>\n",
              "      <td>south_america</td>\n",
              "      <td>4</td>\n",
              "      <td>0.94</td>\n",
              "      <td>1</td>\n",
              "    </tr>\n",
              "    <tr>\n",
              "      <th>1</th>\n",
              "      <td>social_media</td>\n",
              "      <td>retail</td>\n",
              "      <td>1</td>\n",
              "      <td>46992.0</td>\n",
              "      <td>employed</td>\n",
              "      <td>south_america</td>\n",
              "      <td>1</td>\n",
              "      <td>0.80</td>\n",
              "      <td>0</td>\n",
              "    </tr>\n",
              "    <tr>\n",
              "      <th>2</th>\n",
              "      <td>events</td>\n",
              "      <td>healthcare</td>\n",
              "      <td>5</td>\n",
              "      <td>78796.0</td>\n",
              "      <td>unemployed</td>\n",
              "      <td>australia</td>\n",
              "      <td>3</td>\n",
              "      <td>0.69</td>\n",
              "      <td>1</td>\n",
              "    </tr>\n",
              "    <tr>\n",
              "      <th>3</th>\n",
              "      <td>paid_ads</td>\n",
              "      <td>retail</td>\n",
              "      <td>2</td>\n",
              "      <td>83843.0</td>\n",
              "      <td>NaN</td>\n",
              "      <td>australia</td>\n",
              "      <td>1</td>\n",
              "      <td>0.87</td>\n",
              "      <td>0</td>\n",
              "    </tr>\n",
              "    <tr>\n",
              "      <th>4</th>\n",
              "      <td>referral</td>\n",
              "      <td>education</td>\n",
              "      <td>3</td>\n",
              "      <td>85012.0</td>\n",
              "      <td>self_employed</td>\n",
              "      <td>europe</td>\n",
              "      <td>3</td>\n",
              "      <td>0.62</td>\n",
              "      <td>1</td>\n",
              "    </tr>\n",
              "  </tbody>\n",
              "</table>\n",
              "</div>\n",
              "    <div class=\"colab-df-buttons\">\n",
              "\n",
              "  <div class=\"colab-df-container\">\n",
              "    <button class=\"colab-df-convert\" onclick=\"convertToInteractive('df-096ef688-cd8f-40dd-a375-39316e12dd08')\"\n",
              "            title=\"Convert this dataframe to an interactive table.\"\n",
              "            style=\"display:none;\">\n",
              "\n",
              "  <svg xmlns=\"http://www.w3.org/2000/svg\" height=\"24px\" viewBox=\"0 -960 960 960\">\n",
              "    <path d=\"M120-120v-720h720v720H120Zm60-500h600v-160H180v160Zm220 220h160v-160H400v160Zm0 220h160v-160H400v160ZM180-400h160v-160H180v160Zm440 0h160v-160H620v160ZM180-180h160v-160H180v160Zm440 0h160v-160H620v160Z\"/>\n",
              "  </svg>\n",
              "    </button>\n",
              "\n",
              "  <style>\n",
              "    .colab-df-container {\n",
              "      display:flex;\n",
              "      gap: 12px;\n",
              "    }\n",
              "\n",
              "    .colab-df-convert {\n",
              "      background-color: #E8F0FE;\n",
              "      border: none;\n",
              "      border-radius: 50%;\n",
              "      cursor: pointer;\n",
              "      display: none;\n",
              "      fill: #1967D2;\n",
              "      height: 32px;\n",
              "      padding: 0 0 0 0;\n",
              "      width: 32px;\n",
              "    }\n",
              "\n",
              "    .colab-df-convert:hover {\n",
              "      background-color: #E2EBFA;\n",
              "      box-shadow: 0px 1px 2px rgba(60, 64, 67, 0.3), 0px 1px 3px 1px rgba(60, 64, 67, 0.15);\n",
              "      fill: #174EA6;\n",
              "    }\n",
              "\n",
              "    .colab-df-buttons div {\n",
              "      margin-bottom: 4px;\n",
              "    }\n",
              "\n",
              "    [theme=dark] .colab-df-convert {\n",
              "      background-color: #3B4455;\n",
              "      fill: #D2E3FC;\n",
              "    }\n",
              "\n",
              "    [theme=dark] .colab-df-convert:hover {\n",
              "      background-color: #434B5C;\n",
              "      box-shadow: 0px 1px 3px 1px rgba(0, 0, 0, 0.15);\n",
              "      filter: drop-shadow(0px 1px 2px rgba(0, 0, 0, 0.3));\n",
              "      fill: #FFFFFF;\n",
              "    }\n",
              "  </style>\n",
              "\n",
              "    <script>\n",
              "      const buttonEl =\n",
              "        document.querySelector('#df-096ef688-cd8f-40dd-a375-39316e12dd08 button.colab-df-convert');\n",
              "      buttonEl.style.display =\n",
              "        google.colab.kernel.accessAllowed ? 'block' : 'none';\n",
              "\n",
              "      async function convertToInteractive(key) {\n",
              "        const element = document.querySelector('#df-096ef688-cd8f-40dd-a375-39316e12dd08');\n",
              "        const dataTable =\n",
              "          await google.colab.kernel.invokeFunction('convertToInteractive',\n",
              "                                                    [key], {});\n",
              "        if (!dataTable) return;\n",
              "\n",
              "        const docLinkHtml = 'Like what you see? Visit the ' +\n",
              "          '<a target=\"_blank\" href=https://colab.research.google.com/notebooks/data_table.ipynb>data table notebook</a>'\n",
              "          + ' to learn more about interactive tables.';\n",
              "        element.innerHTML = '';\n",
              "        dataTable['output_type'] = 'display_data';\n",
              "        await google.colab.output.renderOutput(dataTable, element);\n",
              "        const docLink = document.createElement('div');\n",
              "        docLink.innerHTML = docLinkHtml;\n",
              "        element.appendChild(docLink);\n",
              "      }\n",
              "    </script>\n",
              "  </div>\n",
              "\n",
              "\n",
              "    <div id=\"df-ba02b8ac-ef15-48e9-84d6-504ef57679a7\">\n",
              "      <button class=\"colab-df-quickchart\" onclick=\"quickchart('df-ba02b8ac-ef15-48e9-84d6-504ef57679a7')\"\n",
              "                title=\"Suggest charts\"\n",
              "                style=\"display:none;\">\n",
              "\n",
              "<svg xmlns=\"http://www.w3.org/2000/svg\" height=\"24px\"viewBox=\"0 0 24 24\"\n",
              "     width=\"24px\">\n",
              "    <g>\n",
              "        <path d=\"M19 3H5c-1.1 0-2 .9-2 2v14c0 1.1.9 2 2 2h14c1.1 0 2-.9 2-2V5c0-1.1-.9-2-2-2zM9 17H7v-7h2v7zm4 0h-2V7h2v10zm4 0h-2v-4h2v4z\"/>\n",
              "    </g>\n",
              "</svg>\n",
              "      </button>\n",
              "\n",
              "<style>\n",
              "  .colab-df-quickchart {\n",
              "      --bg-color: #E8F0FE;\n",
              "      --fill-color: #1967D2;\n",
              "      --hover-bg-color: #E2EBFA;\n",
              "      --hover-fill-color: #174EA6;\n",
              "      --disabled-fill-color: #AAA;\n",
              "      --disabled-bg-color: #DDD;\n",
              "  }\n",
              "\n",
              "  [theme=dark] .colab-df-quickchart {\n",
              "      --bg-color: #3B4455;\n",
              "      --fill-color: #D2E3FC;\n",
              "      --hover-bg-color: #434B5C;\n",
              "      --hover-fill-color: #FFFFFF;\n",
              "      --disabled-bg-color: #3B4455;\n",
              "      --disabled-fill-color: #666;\n",
              "  }\n",
              "\n",
              "  .colab-df-quickchart {\n",
              "    background-color: var(--bg-color);\n",
              "    border: none;\n",
              "    border-radius: 50%;\n",
              "    cursor: pointer;\n",
              "    display: none;\n",
              "    fill: var(--fill-color);\n",
              "    height: 32px;\n",
              "    padding: 0;\n",
              "    width: 32px;\n",
              "  }\n",
              "\n",
              "  .colab-df-quickchart:hover {\n",
              "    background-color: var(--hover-bg-color);\n",
              "    box-shadow: 0 1px 2px rgba(60, 64, 67, 0.3), 0 1px 3px 1px rgba(60, 64, 67, 0.15);\n",
              "    fill: var(--button-hover-fill-color);\n",
              "  }\n",
              "\n",
              "  .colab-df-quickchart-complete:disabled,\n",
              "  .colab-df-quickchart-complete:disabled:hover {\n",
              "    background-color: var(--disabled-bg-color);\n",
              "    fill: var(--disabled-fill-color);\n",
              "    box-shadow: none;\n",
              "  }\n",
              "\n",
              "  .colab-df-spinner {\n",
              "    border: 2px solid var(--fill-color);\n",
              "    border-color: transparent;\n",
              "    border-bottom-color: var(--fill-color);\n",
              "    animation:\n",
              "      spin 1s steps(1) infinite;\n",
              "  }\n",
              "\n",
              "  @keyframes spin {\n",
              "    0% {\n",
              "      border-color: transparent;\n",
              "      border-bottom-color: var(--fill-color);\n",
              "      border-left-color: var(--fill-color);\n",
              "    }\n",
              "    20% {\n",
              "      border-color: transparent;\n",
              "      border-left-color: var(--fill-color);\n",
              "      border-top-color: var(--fill-color);\n",
              "    }\n",
              "    30% {\n",
              "      border-color: transparent;\n",
              "      border-left-color: var(--fill-color);\n",
              "      border-top-color: var(--fill-color);\n",
              "      border-right-color: var(--fill-color);\n",
              "    }\n",
              "    40% {\n",
              "      border-color: transparent;\n",
              "      border-right-color: var(--fill-color);\n",
              "      border-top-color: var(--fill-color);\n",
              "    }\n",
              "    60% {\n",
              "      border-color: transparent;\n",
              "      border-right-color: var(--fill-color);\n",
              "    }\n",
              "    80% {\n",
              "      border-color: transparent;\n",
              "      border-right-color: var(--fill-color);\n",
              "      border-bottom-color: var(--fill-color);\n",
              "    }\n",
              "    90% {\n",
              "      border-color: transparent;\n",
              "      border-bottom-color: var(--fill-color);\n",
              "    }\n",
              "  }\n",
              "</style>\n",
              "\n",
              "      <script>\n",
              "        async function quickchart(key) {\n",
              "          const quickchartButtonEl =\n",
              "            document.querySelector('#' + key + ' button');\n",
              "          quickchartButtonEl.disabled = true;  // To prevent multiple clicks.\n",
              "          quickchartButtonEl.classList.add('colab-df-spinner');\n",
              "          try {\n",
              "            const charts = await google.colab.kernel.invokeFunction(\n",
              "                'suggestCharts', [key], {});\n",
              "          } catch (error) {\n",
              "            console.error('Error during call to suggestCharts:', error);\n",
              "          }\n",
              "          quickchartButtonEl.classList.remove('colab-df-spinner');\n",
              "          quickchartButtonEl.classList.add('colab-df-quickchart-complete');\n",
              "        }\n",
              "        (() => {\n",
              "          let quickchartButtonEl =\n",
              "            document.querySelector('#df-ba02b8ac-ef15-48e9-84d6-504ef57679a7 button');\n",
              "          quickchartButtonEl.style.display =\n",
              "            google.colab.kernel.accessAllowed ? 'block' : 'none';\n",
              "        })();\n",
              "      </script>\n",
              "    </div>\n",
              "\n",
              "    </div>\n",
              "  </div>\n"
            ],
            "application/vnd.google.colaboratory.intrinsic+json": {
              "type": "dataframe",
              "variable_name": "df",
              "summary": "{\n  \"name\": \"df\",\n  \"rows\": 1462,\n  \"fields\": [\n    {\n      \"column\": \"lead_source\",\n      \"properties\": {\n        \"dtype\": \"category\",\n        \"num_unique_values\": 5,\n        \"samples\": [\n          \"social_media\",\n          \"organic_search\",\n          \"events\"\n        ],\n        \"semantic_type\": \"\",\n        \"description\": \"\"\n      }\n    },\n    {\n      \"column\": \"industry\",\n      \"properties\": {\n        \"dtype\": \"category\",\n        \"num_unique_values\": 7,\n        \"samples\": [\n          \"retail\",\n          \"healthcare\",\n          \"other\"\n        ],\n        \"semantic_type\": \"\",\n        \"description\": \"\"\n      }\n    },\n    {\n      \"column\": \"number_of_courses_viewed\",\n      \"properties\": {\n        \"dtype\": \"number\",\n        \"std\": 1,\n        \"min\": 0,\n        \"max\": 9,\n        \"num_unique_values\": 10,\n        \"samples\": [\n          7,\n          5,\n          4\n        ],\n        \"semantic_type\": \"\",\n        \"description\": \"\"\n      }\n    },\n    {\n      \"column\": \"annual_income\",\n      \"properties\": {\n        \"dtype\": \"number\",\n        \"std\": 15070.140389099402,\n        \"min\": 13929.0,\n        \"max\": 109899.0,\n        \"num_unique_values\": 1267,\n        \"samples\": [\n          35832.0,\n          99435.0,\n          53502.0\n        ],\n        \"semantic_type\": \"\",\n        \"description\": \"\"\n      }\n    },\n    {\n      \"column\": \"employment_status\",\n      \"properties\": {\n        \"dtype\": \"category\",\n        \"num_unique_values\": 4,\n        \"samples\": [\n          \"employed\",\n          \"student\",\n          \"unemployed\"\n        ],\n        \"semantic_type\": \"\",\n        \"description\": \"\"\n      }\n    },\n    {\n      \"column\": \"location\",\n      \"properties\": {\n        \"dtype\": \"category\",\n        \"num_unique_values\": 7,\n        \"samples\": [\n          \"south_america\",\n          \"australia\",\n          \"north_america\"\n        ],\n        \"semantic_type\": \"\",\n        \"description\": \"\"\n      }\n    },\n    {\n      \"column\": \"interaction_count\",\n      \"properties\": {\n        \"dtype\": \"number\",\n        \"std\": 1,\n        \"min\": 0,\n        \"max\": 11,\n        \"num_unique_values\": 12,\n        \"samples\": [\n          10,\n          8,\n          4\n        ],\n        \"semantic_type\": \"\",\n        \"description\": \"\"\n      }\n    },\n    {\n      \"column\": \"lead_score\",\n      \"properties\": {\n        \"dtype\": \"number\",\n        \"std\": 0.28846540429698403,\n        \"min\": 0.0,\n        \"max\": 1.0,\n        \"num_unique_values\": 101,\n        \"samples\": [\n          0.09,\n          0.72,\n          0.58\n        ],\n        \"semantic_type\": \"\",\n        \"description\": \"\"\n      }\n    },\n    {\n      \"column\": \"converted\",\n      \"properties\": {\n        \"dtype\": \"number\",\n        \"std\": 0,\n        \"min\": 0,\n        \"max\": 1,\n        \"num_unique_values\": 2,\n        \"samples\": [\n          0,\n          1\n        ],\n        \"semantic_type\": \"\",\n        \"description\": \"\"\n      }\n    }\n  ]\n}"
            }
          },
          "metadata": {},
          "execution_count": 2
        }
      ]
    },
    {
      "cell_type": "markdown",
      "source": [
        "### Data Preparation\n",
        "- Check if the missing values are presented in the features.\n",
        "- If there are missing values:\n",
        "  - For caterogiral features, replace them with 'NA'\n",
        "  - For numerical features, replace with with 0.0"
      ],
      "metadata": {
        "id": "GFb4d_szhW70"
      }
    },
    {
      "cell_type": "code",
      "source": [
        "df.isnull().sum()"
      ],
      "metadata": {
        "colab": {
          "base_uri": "https://localhost:8080/",
          "height": 366
        },
        "id": "gUQuOIcUgs1q",
        "outputId": "75d11c7e-9246-46d8-e2b1-47b8d30519b6"
      },
      "execution_count": 4,
      "outputs": [
        {
          "output_type": "execute_result",
          "data": {
            "text/plain": [
              "lead_source                 128\n",
              "industry                    134\n",
              "number_of_courses_viewed      0\n",
              "annual_income               181\n",
              "employment_status           100\n",
              "location                     63\n",
              "interaction_count             0\n",
              "lead_score                    0\n",
              "converted                     0\n",
              "dtype: int64"
            ],
            "text/html": [
              "<div>\n",
              "<style scoped>\n",
              "    .dataframe tbody tr th:only-of-type {\n",
              "        vertical-align: middle;\n",
              "    }\n",
              "\n",
              "    .dataframe tbody tr th {\n",
              "        vertical-align: top;\n",
              "    }\n",
              "\n",
              "    .dataframe thead th {\n",
              "        text-align: right;\n",
              "    }\n",
              "</style>\n",
              "<table border=\"1\" class=\"dataframe\">\n",
              "  <thead>\n",
              "    <tr style=\"text-align: right;\">\n",
              "      <th></th>\n",
              "      <th>0</th>\n",
              "    </tr>\n",
              "  </thead>\n",
              "  <tbody>\n",
              "    <tr>\n",
              "      <th>lead_source</th>\n",
              "      <td>128</td>\n",
              "    </tr>\n",
              "    <tr>\n",
              "      <th>industry</th>\n",
              "      <td>134</td>\n",
              "    </tr>\n",
              "    <tr>\n",
              "      <th>number_of_courses_viewed</th>\n",
              "      <td>0</td>\n",
              "    </tr>\n",
              "    <tr>\n",
              "      <th>annual_income</th>\n",
              "      <td>181</td>\n",
              "    </tr>\n",
              "    <tr>\n",
              "      <th>employment_status</th>\n",
              "      <td>100</td>\n",
              "    </tr>\n",
              "    <tr>\n",
              "      <th>location</th>\n",
              "      <td>63</td>\n",
              "    </tr>\n",
              "    <tr>\n",
              "      <th>interaction_count</th>\n",
              "      <td>0</td>\n",
              "    </tr>\n",
              "    <tr>\n",
              "      <th>lead_score</th>\n",
              "      <td>0</td>\n",
              "    </tr>\n",
              "    <tr>\n",
              "      <th>converted</th>\n",
              "      <td>0</td>\n",
              "    </tr>\n",
              "  </tbody>\n",
              "</table>\n",
              "</div><br><label><b>dtype:</b> int64</label>"
            ]
          },
          "metadata": {},
          "execution_count": 4
        }
      ]
    },
    {
      "cell_type": "code",
      "source": [
        "df.info()"
      ],
      "metadata": {
        "colab": {
          "base_uri": "https://localhost:8080/"
        },
        "id": "hTk6cYjdgzGp",
        "outputId": "bda15466-c589-4bb6-b705-4f5665740757"
      },
      "execution_count": 5,
      "outputs": [
        {
          "output_type": "stream",
          "name": "stdout",
          "text": [
            "<class 'pandas.core.frame.DataFrame'>\n",
            "RangeIndex: 1462 entries, 0 to 1461\n",
            "Data columns (total 9 columns):\n",
            " #   Column                    Non-Null Count  Dtype  \n",
            "---  ------                    --------------  -----  \n",
            " 0   lead_source               1334 non-null   object \n",
            " 1   industry                  1328 non-null   object \n",
            " 2   number_of_courses_viewed  1462 non-null   int64  \n",
            " 3   annual_income             1281 non-null   float64\n",
            " 4   employment_status         1362 non-null   object \n",
            " 5   location                  1399 non-null   object \n",
            " 6   interaction_count         1462 non-null   int64  \n",
            " 7   lead_score                1462 non-null   float64\n",
            " 8   converted                 1462 non-null   int64  \n",
            "dtypes: float64(2), int64(3), object(4)\n",
            "memory usage: 102.9+ KB\n"
          ]
        }
      ]
    },
    {
      "cell_type": "code",
      "source": [
        "# Identify categorical and numerical columns with missing values\n",
        "categorical_cols_with_na = df.select_dtypes(include='object').columns[df.select_dtypes(include='object').isnull().any()]\n",
        "numerical_cols_with_na = df.select_dtypes(include=np.number).columns[df.select_dtypes(include=np.number).isnull().any()]\n",
        "\n",
        "# Fill missing values\n",
        "df[categorical_cols_with_na] = df[categorical_cols_with_na].fillna('NA')\n",
        "df[numerical_cols_with_na] = df[numerical_cols_with_na].fillna(0.0)\n",
        "\n",
        "# Verify that missing values have been filled\n",
        "print(\"Missing values after imputation:\")\n",
        "display(df.isnull().sum())"
      ],
      "metadata": {
        "colab": {
          "base_uri": "https://localhost:8080/",
          "height": 383
        },
        "id": "E5GipCKog39D",
        "outputId": "00641712-0e02-42ff-87c1-16be795a3bc1"
      },
      "execution_count": 6,
      "outputs": [
        {
          "output_type": "stream",
          "name": "stdout",
          "text": [
            "Missing values after imputation:\n"
          ]
        },
        {
          "output_type": "display_data",
          "data": {
            "text/plain": [
              "lead_source                 0\n",
              "industry                    0\n",
              "number_of_courses_viewed    0\n",
              "annual_income               0\n",
              "employment_status           0\n",
              "location                    0\n",
              "interaction_count           0\n",
              "lead_score                  0\n",
              "converted                   0\n",
              "dtype: int64"
            ],
            "text/html": [
              "<div>\n",
              "<style scoped>\n",
              "    .dataframe tbody tr th:only-of-type {\n",
              "        vertical-align: middle;\n",
              "    }\n",
              "\n",
              "    .dataframe tbody tr th {\n",
              "        vertical-align: top;\n",
              "    }\n",
              "\n",
              "    .dataframe thead th {\n",
              "        text-align: right;\n",
              "    }\n",
              "</style>\n",
              "<table border=\"1\" class=\"dataframe\">\n",
              "  <thead>\n",
              "    <tr style=\"text-align: right;\">\n",
              "      <th></th>\n",
              "      <th>0</th>\n",
              "    </tr>\n",
              "  </thead>\n",
              "  <tbody>\n",
              "    <tr>\n",
              "      <th>lead_source</th>\n",
              "      <td>0</td>\n",
              "    </tr>\n",
              "    <tr>\n",
              "      <th>industry</th>\n",
              "      <td>0</td>\n",
              "    </tr>\n",
              "    <tr>\n",
              "      <th>number_of_courses_viewed</th>\n",
              "      <td>0</td>\n",
              "    </tr>\n",
              "    <tr>\n",
              "      <th>annual_income</th>\n",
              "      <td>0</td>\n",
              "    </tr>\n",
              "    <tr>\n",
              "      <th>employment_status</th>\n",
              "      <td>0</td>\n",
              "    </tr>\n",
              "    <tr>\n",
              "      <th>location</th>\n",
              "      <td>0</td>\n",
              "    </tr>\n",
              "    <tr>\n",
              "      <th>interaction_count</th>\n",
              "      <td>0</td>\n",
              "    </tr>\n",
              "    <tr>\n",
              "      <th>lead_score</th>\n",
              "      <td>0</td>\n",
              "    </tr>\n",
              "    <tr>\n",
              "      <th>converted</th>\n",
              "      <td>0</td>\n",
              "    </tr>\n",
              "  </tbody>\n",
              "</table>\n",
              "</div><br><label><b>dtype:</b> int64</label>"
            ]
          },
          "metadata": {}
        }
      ]
    },
    {
      "cell_type": "markdown",
      "source": [
        "### Question 1\n",
        "\n",
        "What is the most frequent observation (mode) for the column industry?"
      ],
      "metadata": {
        "id": "zpCDceMvh1lU"
      }
    },
    {
      "cell_type": "code",
      "source": [
        "df['industry'].mode()"
      ],
      "metadata": {
        "colab": {
          "base_uri": "https://localhost:8080/",
          "height": 115
        },
        "id": "4r16UbyHhrE0",
        "outputId": "8779a1e8-8888-44dd-dc36-b3059829af77"
      },
      "execution_count": 7,
      "outputs": [
        {
          "output_type": "execute_result",
          "data": {
            "text/plain": [
              "0    retail\n",
              "Name: industry, dtype: object"
            ],
            "text/html": [
              "<div>\n",
              "<style scoped>\n",
              "    .dataframe tbody tr th:only-of-type {\n",
              "        vertical-align: middle;\n",
              "    }\n",
              "\n",
              "    .dataframe tbody tr th {\n",
              "        vertical-align: top;\n",
              "    }\n",
              "\n",
              "    .dataframe thead th {\n",
              "        text-align: right;\n",
              "    }\n",
              "</style>\n",
              "<table border=\"1\" class=\"dataframe\">\n",
              "  <thead>\n",
              "    <tr style=\"text-align: right;\">\n",
              "      <th></th>\n",
              "      <th>industry</th>\n",
              "    </tr>\n",
              "  </thead>\n",
              "  <tbody>\n",
              "    <tr>\n",
              "      <th>0</th>\n",
              "      <td>retail</td>\n",
              "    </tr>\n",
              "  </tbody>\n",
              "</table>\n",
              "</div><br><label><b>dtype:</b> object</label>"
            ]
          },
          "metadata": {},
          "execution_count": 7
        }
      ]
    },
    {
      "cell_type": "markdown",
      "source": [
        "### Question 2\n",
        "Create the correlation matrix for the numerical features of your dataset. In a correlation matrix, you compute the correlation coefficient between every pair of features."
      ],
      "metadata": {
        "id": "stWpW05PjWfp"
      }
    },
    {
      "cell_type": "code",
      "metadata": {
        "colab": {
          "base_uri": "https://localhost:8080/",
          "height": 539
        },
        "id": "8cd3b4c1",
        "outputId": "7e087d10-f6ae-4c95-c418-fb25a015fc38"
      },
      "source": [
        "# Select only numerical columns\n",
        "numerical_df = df.select_dtypes(include=np.number)\n",
        "\n",
        "# Calculate the correlation matrix\n",
        "correlation_matrix = numerical_df.corr()\n",
        "\n",
        "\n",
        "# Visualize the correlation matrix using a heatmap\n",
        "plt.figure(figsize=(8, 6))\n",
        "sns.heatmap(correlation_matrix, annot=True, cmap='coolwarm', fmt=\".2f\")\n",
        "plt.title('Correlation Matrix of Numerical Features')\n",
        "plt.show()"
      ],
      "execution_count": 11,
      "outputs": [
        {
          "output_type": "display_data",
          "data": {
            "text/plain": [
              "<Figure size 800x600 with 2 Axes>"
            ],
            "image/png": "[encoded data removed]"
          },
          "metadata": {}
        }
      ]
    },
    {
      "cell_type": "code",
      "metadata": {
        "colab": {
          "base_uri": "https://localhost:8080/"
        },
        "id": "859b8d33",
        "outputId": "666a0416-6d4f-488b-b4ef-2fefbcdb4438"
      },
      "source": [
        "from sklearn.model_selection import train_test_split\n",
        "\n",
        "# Define features (X) and target (y)\n",
        "X = df.drop('converted', axis=1)\n",
        "y = df['converted']\n",
        "\n",
        "# Split data into training (60%) and temporary (40%) sets\n",
        "X_train, X_temp, y_train, y_temp = train_test_split(X, y, test_size=0.4, random_state=42)\n",
        "\n",
        "# Split temporary data into validation (20%) and test (20%) sets\n",
        "X_val, X_test, y_val, y_test = train_test_split(X_temp, y_temp, test_size=0.5, random_state=42)\n",
        "\n",
        "# Display the shapes of the resulting sets\n",
        "print(\"Shape of X_train:\", X_train.shape)\n",
        "print(\"Shape of X_val:\", X_val.shape)\n",
        "print(\"Shape of X_test:\", X_test.shape)\n",
        "print(\"Shape of y_train:\", y_train.shape)\n",
        "print(\"Shape of y_val:\", y_val.shape)\n",
        "print(\"Shape of y_test:\", y_test.shape)"
      ],
      "execution_count": 12,
      "outputs": [
        {
          "output_type": "stream",
          "name": "stdout",
          "text": [
            "Shape of X_train: (877, 8)\n",
            "Shape of X_val: (292, 8)\n",
            "Shape of X_test: (293, 8)\n",
            "Shape of y_train: (877,)\n",
            "Shape of y_val: (292,)\n",
            "Shape of y_test: (293,)\n"
          ]
        }
      ]
    },
    {
      "cell_type": "markdown",
      "source": [
        "### Question 3\n",
        "- Calculate the mutual information score between y and other categorical variables in the dataset. Use the training set only.\n",
        "- Round the scores to 2 decimals using round(score, 2)."
      ],
      "metadata": {
        "id": "xCvM4RL1kzcU"
      }
    },
    {
      "cell_type": "code",
      "metadata": {
        "colab": {
          "base_uri": "https://localhost:8080/",
          "height": 227
        },
        "id": "799e432a",
        "outputId": "0eed9b7f-d3f1-4fc4-ddc6-09141bb55803"
      },
      "source": [
        "from sklearn.feature_selection import mutual_info_classif\n",
        "\n",
        "# Select categorical columns from the training features\n",
        "categorical_cols_train = X_train.select_dtypes(include='object')\n",
        "\n",
        "# Calculate mutual information scores\n",
        "# We need to handle potential issues with categorical data types,\n",
        "# as mutual_info_classif expects discrete features.\n",
        "# For simplicity and to proceed, we'll convert to category codes.\n",
        "# A more robust approach might involve one-hot encoding or similar.\n",
        "for col in categorical_cols_train.columns:\n",
        "    categorical_cols_train[col] = categorical_cols_train[col].astype('category').cat.codes\n",
        "\n",
        "# Calculate mutual information scores\n",
        "mutual_info_scores = mutual_info_classif(categorical_cols_train, y_train, random_state=42)\n",
        "\n",
        "# Create a pandas Series for better visualization of scores\n",
        "mutual_info_series = pd.Series(mutual_info_scores, index=categorical_cols_train.columns)\n",
        "\n",
        "# Round the scores to 2 decimal places\n",
        "mutual_info_series_rounded = mutual_info_series.apply(lambda x: round(x, 2))\n",
        "\n",
        "# Display the results\n",
        "print(\"Mutual Information Scores (rounded to 2 decimals):\")\n",
        "display(mutual_info_series_rounded)"
      ],
      "execution_count": 13,
      "outputs": [
        {
          "output_type": "stream",
          "name": "stdout",
          "text": [
            "Mutual Information Scores (rounded to 2 decimals):\n"
          ]
        },
        {
          "output_type": "display_data",
          "data": {
            "text/plain": [
              "lead_source          0.04\n",
              "industry             0.03\n",
              "employment_status    0.02\n",
              "location             0.02\n",
              "dtype: float64"
            ],
            "text/html": [
              "<div>\n",
              "<style scoped>\n",
              "    .dataframe tbody tr th:only-of-type {\n",
              "        vertical-align: middle;\n",
              "    }\n",
              "\n",
              "    .dataframe tbody tr th {\n",
              "        vertical-align: top;\n",
              "    }\n",
              "\n",
              "    .dataframe thead th {\n",
              "        text-align: right;\n",
              "    }\n",
              "</style>\n",
              "<table border=\"1\" class=\"dataframe\">\n",
              "  <thead>\n",
              "    <tr style=\"text-align: right;\">\n",
              "      <th></th>\n",
              "      <th>0</th>\n",
              "    </tr>\n",
              "  </thead>\n",
              "  <tbody>\n",
              "    <tr>\n",
              "      <th>lead_source</th>\n",
              "      <td>0.04</td>\n",
              "    </tr>\n",
              "    <tr>\n",
              "      <th>industry</th>\n",
              "      <td>0.03</td>\n",
              "    </tr>\n",
              "    <tr>\n",
              "      <th>employment_status</th>\n",
              "      <td>0.02</td>\n",
              "    </tr>\n",
              "    <tr>\n",
              "      <th>location</th>\n",
              "      <td>0.02</td>\n",
              "    </tr>\n",
              "  </tbody>\n",
              "</table>\n",
              "</div><br><label><b>dtype:</b> float64</label>"
            ]
          },
          "metadata": {}
        }
      ]
    },
    {
      "cell_type": "markdown",
      "source": [
        "### Question 4\n",
        "- Now let's train a logistic regression.\n",
        "- Remember that we have several categorical variables in the dataset. Include them using one-hot encoding.\n",
        "- Fit the model on the training dataset.\n",
        "  - To make sure the results are reproducible across different versions of Scikit-Learn, fit the model with these parameters:\n",
        "  - model = LogisticRegression(solver='liblinear', C=1.0, max_iter=1000, random_state=42)\n",
        "- Calculate the accuracy on the validation dataset and round it to 2 decimal digits."
      ],
      "metadata": {
        "id": "BWK13LoKk9-j"
      }
    },
    {
      "cell_type": "code",
      "metadata": {
        "colab": {
          "base_uri": "https://localhost:8080/"
        },
        "id": "9a12c041",
        "outputId": "478772e7-f8bd-4382-c56a-53febb6ec185"
      },
      "source": [
        "from sklearn.linear_model import LogisticRegression\n",
        "from sklearn.preprocessing import OneHotEncoder\n",
        "from sklearn.compose import ColumnTransformer\n",
        "from sklearn.metrics import accuracy_score\n",
        "\n",
        "# Identify categorical columns (excluding the target)\n",
        "categorical_features = X_train.select_dtypes(include='object').columns\n",
        "\n",
        "# Create a ColumnTransformer for one-hot encoding categorical features\n",
        "preprocessor = ColumnTransformer(\n",
        "    transformers=[\n",
        "        ('onehot', OneHotEncoder(handle_unknown='ignore'), categorical_features)\n",
        "    ],\n",
        "    remainder='passthrough' # Keep numerical columns as they are\n",
        ")\n",
        "\n",
        "# Apply one-hot encoding to the training and validation data\n",
        "X_train_encoded = preprocessor.fit_transform(X_train)\n",
        "X_val_encoded = preprocessor.transform(X_val)\n",
        "\n",
        "# Initialize the Logistic Regression model with specified parameters\n",
        "model = LogisticRegression(solver='liblinear', C=1.0, max_iter=1000, random_state=42)\n",
        "\n",
        "# Fit the model on the encoded training data\n",
        "model.fit(X_train_encoded, y_train)\n",
        "\n",
        "# Make predictions on the encoded validation data\n",
        "y_pred_val = model.predict(X_val_encoded)\n",
        "\n",
        "# Calculate accuracy on the validation dataset\n",
        "accuracy_val = accuracy_score(y_val, y_pred_val)\n",
        "\n",
        "# Round the accuracy to 2 decimal places\n",
        "accuracy_val_rounded = round(accuracy_val, 2)\n",
        "\n",
        "# Display the rounded accuracy\n",
        "print(f\"Accuracy on the validation dataset (rounded to 2 decimals): {accuracy_val_rounded}\")"
      ],
      "execution_count": 14,
      "outputs": [
        {
          "output_type": "stream",
          "name": "stdout",
          "text": [
            "Accuracy on the validation dataset (rounded to 2 decimals): 0.74\n"
          ]
        }
      ]
    },
    {
      "cell_type": "markdown",
      "source": [
        "### Question 5\n",
        "- Let's find the least useful feature using the feature elimination technique.\n",
        "- Train a model using the same features and parameters as in Q4 (without rounding).\n",
        "- Now exclude each feature from this set and train a model without it. Record the accuracy for each model.\n",
        "- For each feature, calculate the difference between the original accuracy and the accuracy without the feature."
      ],
      "metadata": {
        "id": "kT9kF-JQlIr0"
      }
    },
    {
      "cell_type": "code",
      "metadata": {
        "colab": {
          "base_uri": "https://localhost:8080/"
        },
        "id": "4d6cad2a",
        "outputId": "2de56c53-734c-47c9-e2f3-ec8ff4f0ada3"
      },
      "source": [
        "# Initialize the Logistic Regression model with specified parameters\n",
        "model_all_features = LogisticRegression(solver='liblinear', C=1.0, max_iter=1000, random_state=42)\n",
        "\n",
        "# Fit the model on the encoded training data\n",
        "model_all_features.fit(X_train_encoded, y_train)\n",
        "\n",
        "# Make predictions on the encoded validation data\n",
        "y_pred_val_all_features = model_all_features.predict(X_val_encoded)\n",
        "\n",
        "# Calculate accuracy on the validation dataset\n",
        "accuracy_val_all_features = accuracy_score(y_val, y_pred_val_all_features)\n",
        "\n",
        "# Display the accuracy\n",
        "print(f\"Accuracy on the validation dataset with all features: {accuracy_val_all_features}\")"
      ],
      "execution_count": 15,
      "outputs": [
        {
          "output_type": "stream",
          "name": "stdout",
          "text": [
            "Accuracy on the validation dataset with all features: 0.7431506849315068\n"
          ]
        }
      ]
    },
    {
      "cell_type": "code",
      "metadata": {
        "colab": {
          "base_uri": "https://localhost:8080/",
          "height": 329
        },
        "id": "36a9befc",
        "outputId": "0532aae6-831f-4599-b060-a6ca4247b94f"
      },
      "source": [
        "# Get the list of all feature columns\n",
        "all_features = X_train.columns\n",
        "\n",
        "# Initialize a dictionary to store accuracy differences\n",
        "accuracy_differences = {}\n",
        "\n",
        "# Iterate through each feature\n",
        "for feature_to_drop in all_features:\n",
        "    print(f\"Dropping feature: {feature_to_drop}\")\n",
        "\n",
        "    # Create new training and validation DataFrames by dropping the current feature\n",
        "    X_train_reduced = X_train.drop(columns=[feature_to_drop])\n",
        "    X_val_reduced = X_val.drop(columns=[feature_to_drop])\n",
        "\n",
        "    # Identify categorical columns in the reduced dataset\n",
        "    categorical_features_reduced = X_train_reduced.select_dtypes(include='object').columns\n",
        "\n",
        "    # Create a new ColumnTransformer for the reduced dataset\n",
        "    preprocessor_reduced = ColumnTransformer(\n",
        "        transformers=[\n",
        "            ('onehot', OneHotEncoder(handle_unknown='ignore'), categorical_features_reduced)\n",
        "        ],\n",
        "        remainder='passthrough' # Keep numerical columns as they are\n",
        "    )\n",
        "\n",
        "    # Apply one-hot encoding to the reduced training and validation data\n",
        "    X_train_reduced_encoded = preprocessor_reduced.fit_transform(X_train_reduced)\n",
        "    X_val_reduced_encoded = preprocessor_reduced.transform(X_val_reduced)\n",
        "\n",
        "    # Initialize a new Logistic Regression model with the same parameters\n",
        "    model_reduced = LogisticRegression(solver='liblinear', C=1.0, max_iter=1000, random_state=42)\n",
        "\n",
        "    # Fit the new model on the encoded reduced training data\n",
        "    model_reduced.fit(X_train_reduced_encoded, y_train)\n",
        "\n",
        "    # Make predictions on the encoded reduced validation data\n",
        "    y_pred_val_reduced = model_reduced.predict(X_val_reduced_encoded)\n",
        "\n",
        "    # Calculate accuracy of the new model on the validation set\n",
        "    accuracy_val_reduced = accuracy_score(y_val, y_pred_val_reduced)\n",
        "\n",
        "    # Calculate the difference in accuracy\n",
        "    accuracy_diff = accuracy_val_all_features - accuracy_val_reduced\n",
        "\n",
        "    # Store the accuracy difference\n",
        "    accuracy_differences[feature_to_drop] = accuracy_diff\n",
        "\n",
        "# Display the accuracy differences\n",
        "print(\"\\nAccuracy differences after dropping each feature:\")\n",
        "display(accuracy_differences)"
      ],
      "execution_count": 16,
      "outputs": [
        {
          "output_type": "stream",
          "name": "stdout",
          "text": [
            "Dropping feature: lead_source\n",
            "Dropping feature: industry\n",
            "Dropping feature: number_of_courses_viewed\n",
            "Dropping feature: annual_income\n",
            "Dropping feature: employment_status\n",
            "Dropping feature: location\n",
            "Dropping feature: interaction_count\n",
            "Dropping feature: lead_score\n",
            "\n",
            "Accuracy differences after dropping each feature:\n"
          ]
        },
        {
          "output_type": "display_data",
          "data": {
            "text/plain": [
              "{'lead_source': 0.013698630136986245,\n",
              " 'industry': 0.0,\n",
              " 'number_of_courses_viewed': 0.06506849315068486,\n",
              " 'annual_income': -0.113013698630137,\n",
              " 'employment_status': -0.003424657534246589,\n",
              " 'location': 0.0,\n",
              " 'interaction_count': 0.06849315068493145,\n",
              " 'lead_score': 0.0}"
            ]
          },
          "metadata": {}
        }
      ]
    },
    {
      "cell_type": "markdown",
      "source": [
        "### Question 6\n",
        "- Now let's train a regularized logistic regression.\n",
        "- Let's try the following values of the parameter C: [0.01, 0.1, 1, 10, 100].\n",
        "- Train models using all the features as in Q4.\n",
        "- Calculate the accuracy on the validation dataset and round it to 3 decimal digits."
      ],
      "metadata": {
        "id": "Lz1NnyEMmNLM"
      }
    },
    {
      "cell_type": "code",
      "metadata": {
        "colab": {
          "base_uri": "https://localhost:8080/"
        },
        "id": "f1b00749",
        "outputId": "803adaa4-84e7-4752-918f-861f4c0084b5"
      },
      "source": [
        "from sklearn.linear_model import LogisticRegression\n",
        "from sklearn.metrics import accuracy_score\n",
        "import numpy as np\n",
        "\n",
        "# Define the values of C to try\n",
        "C_values = [0.01, 0.1, 1, 10, 100]\n",
        "\n",
        "# Dictionary to store accuracies for each C value\n",
        "accuracies = {}\n",
        "\n",
        "# Iterate through each C value\n",
        "for c in C_values:\n",
        "    print(f\"Training model with C = {c}\")\n",
        "\n",
        "    # Initialize the Logistic Regression model with the current C value and specified parameters\n",
        "    model = LogisticRegression(solver='liblinear', C=c, max_iter=1000, random_state=42)\n",
        "\n",
        "    # Fit the model on the encoded training data (using the preprocessor from Q4)\n",
        "    # Assuming X_train_encoded and X_val_encoded from Q4 are available\n",
        "    model.fit(X_train_encoded, y_train)\n",
        "\n",
        "    # Make predictions on the encoded validation data\n",
        "    y_pred_val = model.predict(X_val_encoded)\n",
        "\n",
        "    # Calculate accuracy on the validation dataset\n",
        "    accuracy_val = accuracy_score(y_val, y_pred_val)\n",
        "\n",
        "    # Store the accuracy\n",
        "    accuracies[c] = accuracy_val\n",
        "\n",
        "# Display the accuracies for each C value, rounded to 3 decimal places\n",
        "print(\"\\nAccuracy on the validation dataset for different C values:\")\n",
        "for c, acc in accuracies.items():\n",
        "    print(f\"C = {c}: {round(acc, 3)}\")"
      ],
      "execution_count": 18,
      "outputs": [
        {
          "output_type": "stream",
          "name": "stdout",
          "text": [
            "Training model with C = 0.01\n",
            "Training model with C = 0.1\n",
            "Training model with C = 1\n",
            "Training model with C = 10\n",
            "Training model with C = 100\n",
            "\n",
            "Accuracy on the validation dataset for different C values:\n",
            "C = 0.01: 0.743\n",
            "C = 0.1: 0.743\n",
            "C = 1: 0.743\n",
            "C = 10: 0.743\n",
            "C = 100: 0.743\n"
          ]
        }
      ]
    },
    {
      "cell_type": "code",
      "source": [],
      "metadata": {
        "id": "x9DOq0iamWHa"
      },
      "execution_count": null,
      "outputs": []
    }
  ]
}